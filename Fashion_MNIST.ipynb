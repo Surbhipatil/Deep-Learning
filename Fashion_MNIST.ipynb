{
 "cells": [
  {
   "cell_type": "code",
   "execution_count": 1,
   "id": "be5f81ff",
   "metadata": {},
   "outputs": [
    {
     "name": "stdout",
     "output_type": "stream",
     "text": [
      "2.6.2\n",
      "1.19.5\n"
     ]
    }
   ],
   "source": [
    "#Tensorflow and tf.keras\n",
    "import tensorflow as tf\n",
    "from tensorflow import keras\n",
    "\n",
    "#Helper libraries\n",
    "import numpy as np\n",
    "import matplotlib.pyplot as plt\n",
    "\n",
    "print(tf.__version__)\n",
    "print(np.__version__)"
   ]
  },
  {
   "cell_type": "code",
   "execution_count": 2,
   "id": "a5113d4f",
   "metadata": {},
   "outputs": [],
   "source": [
    "fashion_mnist = keras.datasets.fashion_mnist\n",
    "(train_images,train_labels),(test_images,test_labels)=fashion_mnist.load_data()"
   ]
  },
  {
   "cell_type": "code",
   "execution_count": 3,
   "id": "8edf8d83",
   "metadata": {},
   "outputs": [
    {
     "data": {
      "text/plain": [
       "(60000, 28, 28)"
      ]
     },
     "execution_count": 3,
     "metadata": {},
     "output_type": "execute_result"
    }
   ],
   "source": [
    "train_images.shape"
   ]
  },
  {
   "cell_type": "code",
   "execution_count": 4,
   "id": "c0edc614",
   "metadata": {},
   "outputs": [
    {
     "data": {
      "text/plain": [
       "(10000, 28, 28)"
      ]
     },
     "execution_count": 4,
     "metadata": {},
     "output_type": "execute_result"
    }
   ],
   "source": [
    "test_images.shape"
   ]
  },
  {
   "cell_type": "code",
   "execution_count": 5,
   "id": "289e7111",
   "metadata": {},
   "outputs": [
    {
     "data": {
      "text/plain": [
       "array([9, 0, 0, ..., 3, 0, 5], dtype=uint8)"
      ]
     },
     "execution_count": 5,
     "metadata": {},
     "output_type": "execute_result"
    }
   ],
   "source": [
    "train_labels"
   ]
  },
  {
   "cell_type": "code",
   "execution_count": 6,
   "id": "903cf032",
   "metadata": {},
   "outputs": [
    {
     "data": {
      "text/plain": [
       "array([[  0,   0,   0,   0,   0,   0,   0,   0,   0,   0,   0,   0,   0,\n",
       "          0,   0,   0,   0,   0,   0,   0,   0,   0,   0,   0,   0,   0,\n",
       "          0,   0],\n",
       "       [  0,   0,   0,   0,   0,   0,   0,   0,   0,   0,   0,   0,   0,\n",
       "          0,   0,   0,   0,   0,   0,   0,   0,   0,   0,   0,   0,   0,\n",
       "          0,   0],\n",
       "       [  0,   0,   0,   0,   0,   0,   0,   0,   0,   0,   0,   0,   0,\n",
       "          0,   0,   0,   0,   0,   0,   0,   0,   0,   0,   0,   0,   0,\n",
       "          0,   0],\n",
       "       [  0,   0,   0,   0,   0,   0,   0,   0,   0,   0,   0,   0,   1,\n",
       "          0,   0,  13,  73,   0,   0,   1,   4,   0,   0,   0,   0,   1,\n",
       "          1,   0],\n",
       "       [  0,   0,   0,   0,   0,   0,   0,   0,   0,   0,   0,   0,   3,\n",
       "          0,  36, 136, 127,  62,  54,   0,   0,   0,   1,   3,   4,   0,\n",
       "          0,   3],\n",
       "       [  0,   0,   0,   0,   0,   0,   0,   0,   0,   0,   0,   0,   6,\n",
       "          0, 102, 204, 176, 134, 144, 123,  23,   0,   0,   0,   0,  12,\n",
       "         10,   0],\n",
       "       [  0,   0,   0,   0,   0,   0,   0,   0,   0,   0,   0,   0,   0,\n",
       "          0, 155, 236, 207, 178, 107, 156, 161, 109,  64,  23,  77, 130,\n",
       "         72,  15],\n",
       "       [  0,   0,   0,   0,   0,   0,   0,   0,   0,   0,   0,   1,   0,\n",
       "         69, 207, 223, 218, 216, 216, 163, 127, 121, 122, 146, 141,  88,\n",
       "        172,  66],\n",
       "       [  0,   0,   0,   0,   0,   0,   0,   0,   0,   1,   1,   1,   0,\n",
       "        200, 232, 232, 233, 229, 223, 223, 215, 213, 164, 127, 123, 196,\n",
       "        229,   0],\n",
       "       [  0,   0,   0,   0,   0,   0,   0,   0,   0,   0,   0,   0,   0,\n",
       "        183, 225, 216, 223, 228, 235, 227, 224, 222, 224, 221, 223, 245,\n",
       "        173,   0],\n",
       "       [  0,   0,   0,   0,   0,   0,   0,   0,   0,   0,   0,   0,   0,\n",
       "        193, 228, 218, 213, 198, 180, 212, 210, 211, 213, 223, 220, 243,\n",
       "        202,   0],\n",
       "       [  0,   0,   0,   0,   0,   0,   0,   0,   0,   1,   3,   0,  12,\n",
       "        219, 220, 212, 218, 192, 169, 227, 208, 218, 224, 212, 226, 197,\n",
       "        209,  52],\n",
       "       [  0,   0,   0,   0,   0,   0,   0,   0,   0,   0,   6,   0,  99,\n",
       "        244, 222, 220, 218, 203, 198, 221, 215, 213, 222, 220, 245, 119,\n",
       "        167,  56],\n",
       "       [  0,   0,   0,   0,   0,   0,   0,   0,   0,   4,   0,   0,  55,\n",
       "        236, 228, 230, 228, 240, 232, 213, 218, 223, 234, 217, 217, 209,\n",
       "         92,   0],\n",
       "       [  0,   0,   1,   4,   6,   7,   2,   0,   0,   0,   0,   0, 237,\n",
       "        226, 217, 223, 222, 219, 222, 221, 216, 223, 229, 215, 218, 255,\n",
       "         77,   0],\n",
       "       [  0,   3,   0,   0,   0,   0,   0,   0,   0,  62, 145, 204, 228,\n",
       "        207, 213, 221, 218, 208, 211, 218, 224, 223, 219, 215, 224, 244,\n",
       "        159,   0],\n",
       "       [  0,   0,   0,   0,  18,  44,  82, 107, 189, 228, 220, 222, 217,\n",
       "        226, 200, 205, 211, 230, 224, 234, 176, 188, 250, 248, 233, 238,\n",
       "        215,   0],\n",
       "       [  0,  57, 187, 208, 224, 221, 224, 208, 204, 214, 208, 209, 200,\n",
       "        159, 245, 193, 206, 223, 255, 255, 221, 234, 221, 211, 220, 232,\n",
       "        246,   0],\n",
       "       [  3, 202, 228, 224, 221, 211, 211, 214, 205, 205, 205, 220, 240,\n",
       "         80, 150, 255, 229, 221, 188, 154, 191, 210, 204, 209, 222, 228,\n",
       "        225,   0],\n",
       "       [ 98, 233, 198, 210, 222, 229, 229, 234, 249, 220, 194, 215, 217,\n",
       "        241,  65,  73, 106, 117, 168, 219, 221, 215, 217, 223, 223, 224,\n",
       "        229,  29],\n",
       "       [ 75, 204, 212, 204, 193, 205, 211, 225, 216, 185, 197, 206, 198,\n",
       "        213, 240, 195, 227, 245, 239, 223, 218, 212, 209, 222, 220, 221,\n",
       "        230,  67],\n",
       "       [ 48, 203, 183, 194, 213, 197, 185, 190, 194, 192, 202, 214, 219,\n",
       "        221, 220, 236, 225, 216, 199, 206, 186, 181, 177, 172, 181, 205,\n",
       "        206, 115],\n",
       "       [  0, 122, 219, 193, 179, 171, 183, 196, 204, 210, 213, 207, 211,\n",
       "        210, 200, 196, 194, 191, 195, 191, 198, 192, 176, 156, 167, 177,\n",
       "        210,  92],\n",
       "       [  0,   0,  74, 189, 212, 191, 175, 172, 175, 181, 185, 188, 189,\n",
       "        188, 193, 198, 204, 209, 210, 210, 211, 188, 188, 194, 192, 216,\n",
       "        170,   0],\n",
       "       [  2,   0,   0,   0,  66, 200, 222, 237, 239, 242, 246, 243, 244,\n",
       "        221, 220, 193, 191, 179, 182, 182, 181, 176, 166, 168,  99,  58,\n",
       "          0,   0],\n",
       "       [  0,   0,   0,   0,   0,   0,   0,  40,  61,  44,  72,  41,  35,\n",
       "          0,   0,   0,   0,   0,   0,   0,   0,   0,   0,   0,   0,   0,\n",
       "          0,   0],\n",
       "       [  0,   0,   0,   0,   0,   0,   0,   0,   0,   0,   0,   0,   0,\n",
       "          0,   0,   0,   0,   0,   0,   0,   0,   0,   0,   0,   0,   0,\n",
       "          0,   0],\n",
       "       [  0,   0,   0,   0,   0,   0,   0,   0,   0,   0,   0,   0,   0,\n",
       "          0,   0,   0,   0,   0,   0,   0,   0,   0,   0,   0,   0,   0,\n",
       "          0,   0]], dtype=uint8)"
      ]
     },
     "execution_count": 6,
     "metadata": {},
     "output_type": "execute_result"
    }
   ],
   "source": [
    "train_images[0]"
   ]
  },
  {
   "cell_type": "code",
   "execution_count": 7,
   "id": "fa57b74b",
   "metadata": {},
   "outputs": [
    {
     "data": {
      "image/png": "[encoded data removed]",
      "text/plain": [
       "<Figure size 432x288 with 1 Axes>"
      ]
     },
     "metadata": {},
     "output_type": "display_data"
    }
   ],
   "source": [
    "plt.imshow(train_images[0],cmap='gray_r')\n",
    "plt.title(train_labels[0])\n",
    "plt.xticks([])\n",
    "plt.yticks([])\n",
    "plt.grid(False)\n",
    "plt.show()"
   ]
  },
  {
   "cell_type": "code",
   "execution_count": 8,
   "id": "986e9ca0",
   "metadata": {},
   "outputs": [
    {
     "data": {
      "image/png": "[encoded data removed]",
      "text/plain": [
       "<Figure size 432x288 with 1 Axes>"
      ]
     },
     "metadata": {},
     "output_type": "display_data"
    }
   ],
   "source": [
    "plt.imshow(train_images[110],cmap='gray_r')\n",
    "plt.title(train_labels[110])\n",
    "plt.xticks([])\n",
    "plt.yticks([])\n",
    "plt.grid(False)\n",
    "plt.show()"
   ]
  },
  {
   "cell_type": "code",
   "execution_count": 9,
   "id": "38495379",
   "metadata": {},
   "outputs": [],
   "source": [
    "class_names = ['T-shirts/top','Trouser','Pullover','Dress','Coat','Sandal','Shirt','Sneaker','Bag','Ankle boot']"
   ]
  },
  {
   "cell_type": "code",
   "execution_count": 10,
   "id": "13e4c1af",
   "metadata": {},
   "outputs": [
    {
     "data": {
      "text/plain": [
       "['T-shirts/top',\n",
       " 'Trouser',\n",
       " 'Pullover',\n",
       " 'Dress',\n",
       " 'Coat',\n",
       " 'Sandal',\n",
       " 'Shirt',\n",
       " 'Sneaker',\n",
       " 'Bag',\n",
       " 'Ankle boot']"
      ]
     },
     "execution_count": 10,
     "metadata": {},
     "output_type": "execute_result"
    }
   ],
   "source": [
    "class_names"
   ]
  },
  {
   "cell_type": "code",
   "execution_count": 11,
   "id": "6cd584f7",
   "metadata": {},
   "outputs": [
    {
     "data": {
      "text/plain": [
       "'Dress'"
      ]
     },
     "execution_count": 11,
     "metadata": {},
     "output_type": "execute_result"
    }
   ],
   "source": [
    "class_names[3]"
   ]
  },
  {
   "cell_type": "code",
   "execution_count": 12,
   "id": "837b9b2e",
   "metadata": {},
   "outputs": [
    {
     "data": {
      "text/plain": [
       "9"
      ]
     },
     "execution_count": 12,
     "metadata": {},
     "output_type": "execute_result"
    }
   ],
   "source": [
    "train_labels[0]"
   ]
  },
  {
   "cell_type": "code",
   "execution_count": 13,
   "id": "778e16c4",
   "metadata": {},
   "outputs": [
    {
     "data": {
      "text/plain": [
       "'Ankle boot'"
      ]
     },
     "execution_count": 13,
     "metadata": {},
     "output_type": "execute_result"
    }
   ],
   "source": [
    "class_names[train_labels[0]]"
   ]
  },
  {
   "cell_type": "code",
   "execution_count": 14,
   "id": "275f37d1",
   "metadata": {},
   "outputs": [
    {
     "data": {
      "image/png": "[encoded data removed]",
      "text/plain": [
       "<Figure size 432x288 with 1 Axes>"
      ]
     },
     "metadata": {},
     "output_type": "display_data"
    }
   ],
   "source": [
    "plt.imshow(train_images[0],cmap='gray_r')\n",
    "plt.title(class_names[train_labels[0]])\n",
    "plt.xticks([])\n",
    "plt.yticks([])\n",
    "plt.grid(False)\n",
    "plt.show()"
   ]
  },
  {
   "cell_type": "code",
   "execution_count": 15,
   "id": "ce600fe9",
   "metadata": {},
   "outputs": [
    {
     "data": {
      "image/png": "[encoded data removed]",
      "text/plain": [
       "<Figure size 720x720 with 25 Axes>"
      ]
     },
     "metadata": {},
     "output_type": "display_data"
    }
   ],
   "source": [
    "plt.figure(figsize=(10,10))\n",
    "for i in range(25):\n",
    "    plt.subplot(5,5,i+1)\n",
    "    plt.xticks([])\n",
    "    plt.yticks([])\n",
    "    plt.grid(False)\n",
    "    plt.imshow(train_images[i],cmap=plt.cm.binary)\n",
    "    plt.xlabel(class_names[train_labels[i]])\n",
    "plt.tight_layout()\n",
    "plt.show()"
   ]
  },
  {
   "cell_type": "code",
   "execution_count": 16,
   "id": "6b23a6b7",
   "metadata": {},
   "outputs": [],
   "source": [
    "train_images = train_images/255.0\n",
    "test_images = test_images/255.0"
   ]
  },
  {
   "cell_type": "code",
   "execution_count": 17,
   "id": "6343f4a7",
   "metadata": {},
   "outputs": [],
   "source": [
    "model = keras.Sequential([\n",
    "    keras.layers.Flatten(input_shape=(28,28)),\n",
    "    keras.layers.Dense(512,activation='relu'),\n",
    "    keras.layers.Dense(10,'softmax')\n",
    "])"
   ]
  },
  {
   "cell_type": "code",
   "execution_count": 18,
   "id": "aa58a1d2",
   "metadata": {
    "scrolled": true
   },
   "outputs": [
    {
     "name": "stdout",
     "output_type": "stream",
     "text": [
      "Model: \"sequential\"\n",
      "_________________________________________________________________\n",
      "Layer (type)                 Output Shape              Param #   \n",
      "=================================================================\n",
      "flatten (Flatten)            (None, 784)               0         \n",
      "_________________________________________________________________\n",
      "dense (Dense)                (None, 512)               401920    \n",
      "_________________________________________________________________\n",
      "dense_1 (Dense)              (None, 10)                5130      \n",
      "=================================================================\n",
      "Total params: 407,050\n",
      "Trainable params: 407,050\n",
      "Non-trainable params: 0\n",
      "_________________________________________________________________\n"
     ]
    }
   ],
   "source": [
    "model.summary()"
   ]
  },
  {
   "cell_type": "code",
   "execution_count": 19,
   "id": "c1086450",
   "metadata": {},
   "outputs": [],
   "source": [
    "model.compile(optimizer='adam',\n",
    "             loss=tf.keras.losses.SparseCategoricalCrossentropy(from_logits=True),\n",
    "             metrics=['accuracy'])"
   ]
  },
  {
   "cell_type": "code",
   "execution_count": 20,
   "id": "7b45563c",
   "metadata": {},
   "outputs": [
    {
     "name": "stdout",
     "output_type": "stream",
     "text": [
      "Epoch 1/50\n"
     ]
    },
    {
     "name": "stderr",
     "output_type": "stream",
     "text": [
      "C:\\Users\\HP\\anaconda3\\envs\\deepl\\lib\\site-packages\\keras\\backend.py:4907: UserWarning: \"`sparse_categorical_crossentropy` received `from_logits=True`, but the `output` argument was produced by a sigmoid or softmax activation and thus does not represent logits. Was this intended?\"\n",
      "  '\"`sparse_categorical_crossentropy` received `from_logits=True`, but '\n"
     ]
    },
    {
     "name": "stdout",
     "output_type": "stream",
     "text": [
      "1500/1500 - 11s - loss: 0.4923 - accuracy: 0.8254 - val_loss: 0.3949 - val_accuracy: 0.8583\n",
      "Epoch 2/50\n",
      "1500/1500 - 11s - loss: 0.3706 - accuracy: 0.8641 - val_loss: 0.3600 - val_accuracy: 0.8701\n",
      "Epoch 3/50\n",
      "1500/1500 - 11s - loss: 0.3301 - accuracy: 0.8781 - val_loss: 0.3536 - val_accuracy: 0.8753\n",
      "Epoch 4/50\n",
      "1500/1500 - 10s - loss: 0.3069 - accuracy: 0.8871 - val_loss: 0.3242 - val_accuracy: 0.8859\n",
      "Epoch 5/50\n",
      "1500/1500 - 10s - loss: 0.2874 - accuracy: 0.8928 - val_loss: 0.3295 - val_accuracy: 0.8811\n",
      "Epoch 6/50\n",
      "1500/1500 - 11s - loss: 0.2702 - accuracy: 0.8993 - val_loss: 0.3441 - val_accuracy: 0.8766\n",
      "Epoch 7/50\n",
      "1500/1500 - 10s - loss: 0.2581 - accuracy: 0.9039 - val_loss: 0.3214 - val_accuracy: 0.8850\n",
      "Epoch 8/50\n",
      "1500/1500 - 10s - loss: 0.2445 - accuracy: 0.9087 - val_loss: 0.3330 - val_accuracy: 0.8848\n",
      "Epoch 9/50\n",
      "1500/1500 - 10s - loss: 0.2333 - accuracy: 0.9128 - val_loss: 0.3150 - val_accuracy: 0.8893\n",
      "Epoch 10/50\n",
      "1500/1500 - 10s - loss: 0.2261 - accuracy: 0.9160 - val_loss: 0.3384 - val_accuracy: 0.8863\n",
      "Epoch 11/50\n",
      "1500/1500 - 10s - loss: 0.2180 - accuracy: 0.9186 - val_loss: 0.3321 - val_accuracy: 0.8898\n",
      "Epoch 12/50\n",
      "1500/1500 - 10s - loss: 0.2076 - accuracy: 0.9228 - val_loss: 0.3488 - val_accuracy: 0.8871\n",
      "Epoch 13/50\n",
      "1500/1500 - 10s - loss: 0.2013 - accuracy: 0.9246 - val_loss: 0.3587 - val_accuracy: 0.8795\n",
      "Epoch 14/50\n",
      "1500/1500 - 10s - loss: 0.1914 - accuracy: 0.9275 - val_loss: 0.3372 - val_accuracy: 0.8886\n",
      "Epoch 15/50\n",
      "1500/1500 - 10s - loss: 0.1864 - accuracy: 0.9296 - val_loss: 0.3308 - val_accuracy: 0.8953\n",
      "Epoch 16/50\n",
      "1500/1500 - 10s - loss: 0.1833 - accuracy: 0.9305 - val_loss: 0.3378 - val_accuracy: 0.8913\n",
      "Epoch 17/50\n",
      "1500/1500 - 10s - loss: 0.1710 - accuracy: 0.9359 - val_loss: 0.3585 - val_accuracy: 0.8903\n",
      "Epoch 18/50\n",
      "1500/1500 - 10s - loss: 0.1696 - accuracy: 0.9371 - val_loss: 0.3608 - val_accuracy: 0.8860\n",
      "Epoch 19/50\n",
      "1500/1500 - 11s - loss: 0.1624 - accuracy: 0.9388 - val_loss: 0.3523 - val_accuracy: 0.8899\n",
      "Epoch 20/50\n",
      "1500/1500 - 10s - loss: 0.1562 - accuracy: 0.9419 - val_loss: 0.3706 - val_accuracy: 0.8939\n",
      "Epoch 21/50\n",
      "1500/1500 - 10s - loss: 0.1533 - accuracy: 0.9420 - val_loss: 0.3792 - val_accuracy: 0.8901\n",
      "Epoch 22/50\n",
      "1500/1500 - 11s - loss: 0.1489 - accuracy: 0.9441 - val_loss: 0.3944 - val_accuracy: 0.8874\n",
      "Epoch 23/50\n",
      "1500/1500 - 11s - loss: 0.1412 - accuracy: 0.9475 - val_loss: 0.3720 - val_accuracy: 0.8876\n",
      "Epoch 24/50\n",
      "1500/1500 - 11s - loss: 0.1394 - accuracy: 0.9474 - val_loss: 0.3957 - val_accuracy: 0.8906\n",
      "Epoch 25/50\n",
      "1500/1500 - 10s - loss: 0.1340 - accuracy: 0.9500 - val_loss: 0.3836 - val_accuracy: 0.8928\n",
      "Epoch 26/50\n",
      "1500/1500 - 10s - loss: 0.1303 - accuracy: 0.9502 - val_loss: 0.3944 - val_accuracy: 0.8942\n",
      "Epoch 27/50\n",
      "1500/1500 - 10s - loss: 0.1308 - accuracy: 0.9509 - val_loss: 0.4053 - val_accuracy: 0.8879\n",
      "Epoch 28/50\n",
      "1500/1500 - 10s - loss: 0.1245 - accuracy: 0.9536 - val_loss: 0.4051 - val_accuracy: 0.8953\n",
      "Epoch 29/50\n",
      "1500/1500 - 10s - loss: 0.1205 - accuracy: 0.9551 - val_loss: 0.3950 - val_accuracy: 0.8932\n",
      "Epoch 30/50\n",
      "1500/1500 - 10s - loss: 0.1167 - accuracy: 0.9568 - val_loss: 0.4304 - val_accuracy: 0.8939\n",
      "Epoch 31/50\n",
      "1500/1500 - 10s - loss: 0.1145 - accuracy: 0.9565 - val_loss: 0.4233 - val_accuracy: 0.8902\n",
      "Epoch 32/50\n",
      "1500/1500 - 10s - loss: 0.1135 - accuracy: 0.9564 - val_loss: 0.4502 - val_accuracy: 0.8882\n",
      "Epoch 33/50\n",
      "1500/1500 - 10s - loss: 0.1096 - accuracy: 0.9589 - val_loss: 0.4305 - val_accuracy: 0.8968\n",
      "Epoch 34/50\n",
      "1500/1500 - 12s - loss: 0.1050 - accuracy: 0.9611 - val_loss: 0.4290 - val_accuracy: 0.8913\n",
      "Epoch 35/50\n",
      "1500/1500 - 10s - loss: 0.1034 - accuracy: 0.9607 - val_loss: 0.4749 - val_accuracy: 0.8886\n",
      "Epoch 36/50\n",
      "1500/1500 - 11s - loss: 0.1014 - accuracy: 0.9623 - val_loss: 0.4577 - val_accuracy: 0.8901\n",
      "Epoch 37/50\n",
      "1500/1500 - 10s - loss: 0.0988 - accuracy: 0.9625 - val_loss: 0.4590 - val_accuracy: 0.8905\n",
      "Epoch 38/50\n",
      "1500/1500 - 10s - loss: 0.0956 - accuracy: 0.9642 - val_loss: 0.4986 - val_accuracy: 0.8867\n",
      "Epoch 39/50\n",
      "1500/1500 - 10s - loss: 0.0950 - accuracy: 0.9643 - val_loss: 0.4674 - val_accuracy: 0.8903\n",
      "Epoch 40/50\n",
      "1500/1500 - 10s - loss: 0.0941 - accuracy: 0.9645 - val_loss: 0.4596 - val_accuracy: 0.8942\n",
      "Epoch 41/50\n",
      "1500/1500 - 10s - loss: 0.0883 - accuracy: 0.9673 - val_loss: 0.4790 - val_accuracy: 0.8953\n",
      "Epoch 42/50\n",
      "1500/1500 - 10s - loss: 0.0873 - accuracy: 0.9670 - val_loss: 0.5028 - val_accuracy: 0.8928\n",
      "Epoch 43/50\n",
      "1500/1500 - 10s - loss: 0.0922 - accuracy: 0.9655 - val_loss: 0.5005 - val_accuracy: 0.8970\n",
      "Epoch 44/50\n",
      "1500/1500 - 10s - loss: 0.0840 - accuracy: 0.9689 - val_loss: 0.5211 - val_accuracy: 0.8937\n",
      "Epoch 45/50\n",
      "1500/1500 - 10s - loss: 0.0784 - accuracy: 0.9705 - val_loss: 0.5179 - val_accuracy: 0.8928\n",
      "Epoch 46/50\n",
      "1500/1500 - 10s - loss: 0.0804 - accuracy: 0.9703 - val_loss: 0.5416 - val_accuracy: 0.8902\n",
      "Epoch 47/50\n",
      "1500/1500 - 10s - loss: 0.0784 - accuracy: 0.9707 - val_loss: 0.5347 - val_accuracy: 0.8932\n",
      "Epoch 48/50\n",
      "1500/1500 - 11s - loss: 0.0777 - accuracy: 0.9702 - val_loss: 0.5233 - val_accuracy: 0.8963\n",
      "Epoch 49/50\n",
      "1500/1500 - 9s - loss: 0.0754 - accuracy: 0.9722 - val_loss: 0.5499 - val_accuracy: 0.8936\n",
      "Epoch 50/50\n",
      "1500/1500 - 10s - loss: 0.0785 - accuracy: 0.9709 - val_loss: 0.5580 - val_accuracy: 0.8922\n"
     ]
    }
   ],
   "source": [
    "history = model.fit(train_images,train_labels,validation_split=0.2,epochs=50,verbose=2)"
   ]
  },
  {
   "cell_type": "code",
   "execution_count": 21,
   "id": "dec10000",
   "metadata": {},
   "outputs": [
    {
     "data": {
      "text/plain": [
       "{'loss': [0.4922642111778259,\n",
       "  0.37058281898498535,\n",
       "  0.33005064725875854,\n",
       "  0.3069080710411072,\n",
       "  0.2873768210411072,\n",
       "  0.27021488547325134,\n",
       "  0.25805193185806274,\n",
       "  0.24453391134738922,\n",
       "  0.23327791690826416,\n",
       "  0.2261093705892563,\n",
       "  0.2179899513721466,\n",
       "  0.20756401121616364,\n",
       "  0.20130322873592377,\n",
       "  0.1914329081773758,\n",
       "  0.1864120215177536,\n",
       "  0.18326900899410248,\n",
       "  0.1709912270307541,\n",
       "  0.169560045003891,\n",
       "  0.16239778697490692,\n",
       "  0.1561766415834427,\n",
       "  0.15327514708042145,\n",
       "  0.14885610342025757,\n",
       "  0.14115551114082336,\n",
       "  0.13940130174160004,\n",
       "  0.13397474586963654,\n",
       "  0.13028453290462494,\n",
       "  0.13081219792366028,\n",
       "  0.12454267591238022,\n",
       "  0.12050667405128479,\n",
       "  0.11670945584774017,\n",
       "  0.1145484447479248,\n",
       "  0.11350587010383606,\n",
       "  0.10960159450769424,\n",
       "  0.10496972501277924,\n",
       "  0.10339399427175522,\n",
       "  0.10139615833759308,\n",
       "  0.0988139659166336,\n",
       "  0.09556214511394501,\n",
       "  0.09500403702259064,\n",
       "  0.09411482512950897,\n",
       "  0.08825203776359558,\n",
       "  0.08734481036663055,\n",
       "  0.09217396378517151,\n",
       "  0.08395902812480927,\n",
       "  0.0784359723329544,\n",
       "  0.08041825890541077,\n",
       "  0.07842221111059189,\n",
       "  0.07767469435930252,\n",
       "  0.07544011622667313,\n",
       "  0.07852543890476227],\n",
       " 'accuracy': [0.8253750205039978,\n",
       "  0.8641250133514404,\n",
       "  0.8780624866485596,\n",
       "  0.8871458172798157,\n",
       "  0.8928333520889282,\n",
       "  0.8992708325386047,\n",
       "  0.9038541913032532,\n",
       "  0.9086666703224182,\n",
       "  0.9128333330154419,\n",
       "  0.9160208106040955,\n",
       "  0.918583333492279,\n",
       "  0.9227916598320007,\n",
       "  0.9246249794960022,\n",
       "  0.9274583458900452,\n",
       "  0.929604172706604,\n",
       "  0.9305208325386047,\n",
       "  0.9358958601951599,\n",
       "  0.937125027179718,\n",
       "  0.9387708306312561,\n",
       "  0.9418958425521851,\n",
       "  0.9419999718666077,\n",
       "  0.9441041946411133,\n",
       "  0.9474791884422302,\n",
       "  0.9474166631698608,\n",
       "  0.950041651725769,\n",
       "  0.9502291679382324,\n",
       "  0.9508958458900452,\n",
       "  0.9535624980926514,\n",
       "  0.9551041722297668,\n",
       "  0.9568125009536743,\n",
       "  0.9565208554267883,\n",
       "  0.956416666507721,\n",
       "  0.9588958621025085,\n",
       "  0.961062490940094,\n",
       "  0.9607499837875366,\n",
       "  0.9622708559036255,\n",
       "  0.9625416398048401,\n",
       "  0.964187502861023,\n",
       "  0.9642916917800903,\n",
       "  0.9645000100135803,\n",
       "  0.9672708511352539,\n",
       "  0.9670208096504211,\n",
       "  0.9654791951179504,\n",
       "  0.9689375162124634,\n",
       "  0.9704583287239075,\n",
       "  0.9702916741371155,\n",
       "  0.9707499742507935,\n",
       "  0.9702083468437195,\n",
       "  0.9721666574478149,\n",
       "  0.9708750247955322],\n",
       " 'val_loss': [0.39492976665496826,\n",
       "  0.3599502742290497,\n",
       "  0.3535991609096527,\n",
       "  0.3241931200027466,\n",
       "  0.3295299708843231,\n",
       "  0.34408703446388245,\n",
       "  0.32144081592559814,\n",
       "  0.3329984247684479,\n",
       "  0.3150414526462555,\n",
       "  0.3384428024291992,\n",
       "  0.3321343660354614,\n",
       "  0.34879961609840393,\n",
       "  0.3586638569831848,\n",
       "  0.3371901512145996,\n",
       "  0.33084967732429504,\n",
       "  0.3377579152584076,\n",
       "  0.3584652543067932,\n",
       "  0.3607523739337921,\n",
       "  0.3522656559944153,\n",
       "  0.3706243932247162,\n",
       "  0.379199743270874,\n",
       "  0.39439648389816284,\n",
       "  0.37195348739624023,\n",
       "  0.39565831422805786,\n",
       "  0.3836241066455841,\n",
       "  0.39435485005378723,\n",
       "  0.4052765369415283,\n",
       "  0.4051201641559601,\n",
       "  0.39497295022010803,\n",
       "  0.4303790330886841,\n",
       "  0.42331352829933167,\n",
       "  0.4501808285713196,\n",
       "  0.43053528666496277,\n",
       "  0.4290309250354767,\n",
       "  0.47488778829574585,\n",
       "  0.45772722363471985,\n",
       "  0.4589514434337616,\n",
       "  0.4986107647418976,\n",
       "  0.46743541955947876,\n",
       "  0.4596364200115204,\n",
       "  0.4790448844432831,\n",
       "  0.5027612447738647,\n",
       "  0.500497579574585,\n",
       "  0.5210875868797302,\n",
       "  0.5179146528244019,\n",
       "  0.5415860414505005,\n",
       "  0.5346788167953491,\n",
       "  0.5233147144317627,\n",
       "  0.5498855113983154,\n",
       "  0.5579918026924133],\n",
       " 'val_accuracy': [0.8583333492279053,\n",
       "  0.8700833320617676,\n",
       "  0.875333309173584,\n",
       "  0.8859166502952576,\n",
       "  0.8810833096504211,\n",
       "  0.8765833377838135,\n",
       "  0.8849999904632568,\n",
       "  0.8848333358764648,\n",
       "  0.8893333077430725,\n",
       "  0.8862500190734863,\n",
       "  0.8898333311080933,\n",
       "  0.8870833516120911,\n",
       "  0.8794999718666077,\n",
       "  0.8885833621025085,\n",
       "  0.8952500224113464,\n",
       "  0.8913333415985107,\n",
       "  0.890250027179718,\n",
       "  0.8859999775886536,\n",
       "  0.8899166584014893,\n",
       "  0.893916666507721,\n",
       "  0.8900833129882812,\n",
       "  0.887416660785675,\n",
       "  0.887583315372467,\n",
       "  0.890583336353302,\n",
       "  0.8927500247955322,\n",
       "  0.8941666483879089,\n",
       "  0.8879166841506958,\n",
       "  0.8952500224113464,\n",
       "  0.8931666612625122,\n",
       "  0.893916666507721,\n",
       "  0.8901666402816772,\n",
       "  0.8882499933242798,\n",
       "  0.8968333601951599,\n",
       "  0.8913333415985107,\n",
       "  0.8885833621025085,\n",
       "  0.8900833129882812,\n",
       "  0.890500009059906,\n",
       "  0.8867499828338623,\n",
       "  0.890333354473114,\n",
       "  0.8942499756813049,\n",
       "  0.8952500224113464,\n",
       "  0.8928333520889282,\n",
       "  0.8970000147819519,\n",
       "  0.893666684627533,\n",
       "  0.8927500247955322,\n",
       "  0.8901666402816772,\n",
       "  0.8931666612625122,\n",
       "  0.8963333368301392,\n",
       "  0.893583357334137,\n",
       "  0.8921666741371155]}"
      ]
     },
     "execution_count": 21,
     "metadata": {},
     "output_type": "execute_result"
    }
   ],
   "source": [
    "history.history"
   ]
  },
  {
   "cell_type": "code",
   "execution_count": 22,
   "id": "6bb6ac8e",
   "metadata": {},
   "outputs": [
    {
     "data": {
      "text/plain": [
       "[0.4922642111778259,\n",
       " 0.37058281898498535,\n",
       " 0.33005064725875854,\n",
       " 0.3069080710411072,\n",
       " 0.2873768210411072,\n",
       " 0.27021488547325134,\n",
       " 0.25805193185806274,\n",
       " 0.24453391134738922,\n",
       " 0.23327791690826416,\n",
       " 0.2261093705892563,\n",
       " 0.2179899513721466,\n",
       " 0.20756401121616364,\n",
       " 0.20130322873592377,\n",
       " 0.1914329081773758,\n",
       " 0.1864120215177536,\n",
       " 0.18326900899410248,\n",
       " 0.1709912270307541,\n",
       " 0.169560045003891,\n",
       " 0.16239778697490692,\n",
       " 0.1561766415834427,\n",
       " 0.15327514708042145,\n",
       " 0.14885610342025757,\n",
       " 0.14115551114082336,\n",
       " 0.13940130174160004,\n",
       " 0.13397474586963654,\n",
       " 0.13028453290462494,\n",
       " 0.13081219792366028,\n",
       " 0.12454267591238022,\n",
       " 0.12050667405128479,\n",
       " 0.11670945584774017,\n",
       " 0.1145484447479248,\n",
       " 0.11350587010383606,\n",
       " 0.10960159450769424,\n",
       " 0.10496972501277924,\n",
       " 0.10339399427175522,\n",
       " 0.10139615833759308,\n",
       " 0.0988139659166336,\n",
       " 0.09556214511394501,\n",
       " 0.09500403702259064,\n",
       " 0.09411482512950897,\n",
       " 0.08825203776359558,\n",
       " 0.08734481036663055,\n",
       " 0.09217396378517151,\n",
       " 0.08395902812480927,\n",
       " 0.0784359723329544,\n",
       " 0.08041825890541077,\n",
       " 0.07842221111059189,\n",
       " 0.07767469435930252,\n",
       " 0.07544011622667313,\n",
       " 0.07852543890476227]"
      ]
     },
     "execution_count": 22,
     "metadata": {},
     "output_type": "execute_result"
    }
   ],
   "source": [
    "history.history['loss']"
   ]
  },
  {
   "cell_type": "code",
   "execution_count": 23,
   "id": "71bc9524",
   "metadata": {},
   "outputs": [
    {
     "data": {
      "text/plain": [
       "[0.8253750205039978,\n",
       " 0.8641250133514404,\n",
       " 0.8780624866485596,\n",
       " 0.8871458172798157,\n",
       " 0.8928333520889282,\n",
       " 0.8992708325386047,\n",
       " 0.9038541913032532,\n",
       " 0.9086666703224182,\n",
       " 0.9128333330154419,\n",
       " 0.9160208106040955,\n",
       " 0.918583333492279,\n",
       " 0.9227916598320007,\n",
       " 0.9246249794960022,\n",
       " 0.9274583458900452,\n",
       " 0.929604172706604,\n",
       " 0.9305208325386047,\n",
       " 0.9358958601951599,\n",
       " 0.937125027179718,\n",
       " 0.9387708306312561,\n",
       " 0.9418958425521851,\n",
       " 0.9419999718666077,\n",
       " 0.9441041946411133,\n",
       " 0.9474791884422302,\n",
       " 0.9474166631698608,\n",
       " 0.950041651725769,\n",
       " 0.9502291679382324,\n",
       " 0.9508958458900452,\n",
       " 0.9535624980926514,\n",
       " 0.9551041722297668,\n",
       " 0.9568125009536743,\n",
       " 0.9565208554267883,\n",
       " 0.956416666507721,\n",
       " 0.9588958621025085,\n",
       " 0.961062490940094,\n",
       " 0.9607499837875366,\n",
       " 0.9622708559036255,\n",
       " 0.9625416398048401,\n",
       " 0.964187502861023,\n",
       " 0.9642916917800903,\n",
       " 0.9645000100135803,\n",
       " 0.9672708511352539,\n",
       " 0.9670208096504211,\n",
       " 0.9654791951179504,\n",
       " 0.9689375162124634,\n",
       " 0.9704583287239075,\n",
       " 0.9702916741371155,\n",
       " 0.9707499742507935,\n",
       " 0.9702083468437195,\n",
       " 0.9721666574478149,\n",
       " 0.9708750247955322]"
      ]
     },
     "execution_count": 23,
     "metadata": {},
     "output_type": "execute_result"
    }
   ],
   "source": [
    "history.history['accuracy']"
   ]
  },
  {
   "cell_type": "code",
   "execution_count": 24,
   "id": "306b75a4",
   "metadata": {},
   "outputs": [
    {
     "data": {
      "text/plain": [
       "[0.39492976665496826,\n",
       " 0.3599502742290497,\n",
       " 0.3535991609096527,\n",
       " 0.3241931200027466,\n",
       " 0.3295299708843231,\n",
       " 0.34408703446388245,\n",
       " 0.32144081592559814,\n",
       " 0.3329984247684479,\n",
       " 0.3150414526462555,\n",
       " 0.3384428024291992,\n",
       " 0.3321343660354614,\n",
       " 0.34879961609840393,\n",
       " 0.3586638569831848,\n",
       " 0.3371901512145996,\n",
       " 0.33084967732429504,\n",
       " 0.3377579152584076,\n",
       " 0.3584652543067932,\n",
       " 0.3607523739337921,\n",
       " 0.3522656559944153,\n",
       " 0.3706243932247162,\n",
       " 0.379199743270874,\n",
       " 0.39439648389816284,\n",
       " 0.37195348739624023,\n",
       " 0.39565831422805786,\n",
       " 0.3836241066455841,\n",
       " 0.39435485005378723,\n",
       " 0.4052765369415283,\n",
       " 0.4051201641559601,\n",
       " 0.39497295022010803,\n",
       " 0.4303790330886841,\n",
       " 0.42331352829933167,\n",
       " 0.4501808285713196,\n",
       " 0.43053528666496277,\n",
       " 0.4290309250354767,\n",
       " 0.47488778829574585,\n",
       " 0.45772722363471985,\n",
       " 0.4589514434337616,\n",
       " 0.4986107647418976,\n",
       " 0.46743541955947876,\n",
       " 0.4596364200115204,\n",
       " 0.4790448844432831,\n",
       " 0.5027612447738647,\n",
       " 0.500497579574585,\n",
       " 0.5210875868797302,\n",
       " 0.5179146528244019,\n",
       " 0.5415860414505005,\n",
       " 0.5346788167953491,\n",
       " 0.5233147144317627,\n",
       " 0.5498855113983154,\n",
       " 0.5579918026924133]"
      ]
     },
     "execution_count": 24,
     "metadata": {},
     "output_type": "execute_result"
    }
   ],
   "source": [
    "history.history['val_loss']"
   ]
  },
  {
   "cell_type": "code",
   "execution_count": 25,
   "id": "ebdc879c",
   "metadata": {},
   "outputs": [
    {
     "data": {
      "text/plain": [
       "[0.8583333492279053,\n",
       " 0.8700833320617676,\n",
       " 0.875333309173584,\n",
       " 0.8859166502952576,\n",
       " 0.8810833096504211,\n",
       " 0.8765833377838135,\n",
       " 0.8849999904632568,\n",
       " 0.8848333358764648,\n",
       " 0.8893333077430725,\n",
       " 0.8862500190734863,\n",
       " 0.8898333311080933,\n",
       " 0.8870833516120911,\n",
       " 0.8794999718666077,\n",
       " 0.8885833621025085,\n",
       " 0.8952500224113464,\n",
       " 0.8913333415985107,\n",
       " 0.890250027179718,\n",
       " 0.8859999775886536,\n",
       " 0.8899166584014893,\n",
       " 0.893916666507721,\n",
       " 0.8900833129882812,\n",
       " 0.887416660785675,\n",
       " 0.887583315372467,\n",
       " 0.890583336353302,\n",
       " 0.8927500247955322,\n",
       " 0.8941666483879089,\n",
       " 0.8879166841506958,\n",
       " 0.8952500224113464,\n",
       " 0.8931666612625122,\n",
       " 0.893916666507721,\n",
       " 0.8901666402816772,\n",
       " 0.8882499933242798,\n",
       " 0.8968333601951599,\n",
       " 0.8913333415985107,\n",
       " 0.8885833621025085,\n",
       " 0.8900833129882812,\n",
       " 0.890500009059906,\n",
       " 0.8867499828338623,\n",
       " 0.890333354473114,\n",
       " 0.8942499756813049,\n",
       " 0.8952500224113464,\n",
       " 0.8928333520889282,\n",
       " 0.8970000147819519,\n",
       " 0.893666684627533,\n",
       " 0.8927500247955322,\n",
       " 0.8901666402816772,\n",
       " 0.8931666612625122,\n",
       " 0.8963333368301392,\n",
       " 0.893583357334137,\n",
       " 0.8921666741371155]"
      ]
     },
     "execution_count": 25,
     "metadata": {},
     "output_type": "execute_result"
    }
   ],
   "source": [
    "history.history['val_accuracy']"
   ]
  },
  {
   "cell_type": "code",
   "execution_count": 26,
   "id": "81d36219",
   "metadata": {},
   "outputs": [
    {
     "data": {
      "image/png": "[encoded data removed]",
      "text/plain": [
       "<Figure size 576x288 with 2 Axes>"
      ]
     },
     "metadata": {
      "needs_background": "light"
     },
     "output_type": "display_data"
    }
   ],
   "source": [
    "epochs=50\n",
    "acc=history.history['accuracy']\n",
    "val_acc=history.history['val_accuracy']\n",
    "\n",
    "loss=history.history['loss']\n",
    "val_loss=history.history['val_loss']\n",
    "\n",
    "epochs_range=range(epochs)\n",
    "\n",
    "plt.figure(figsize=(8,4))\n",
    "plt.subplot(1,2,1)\n",
    "plt.plot(epochs_range,acc,label='Training Accuracy')\n",
    "plt.plot(epochs_range,val_acc,label='Validation Accuracy')\n",
    "plt.legend(loc='lower right')\n",
    "plt.title('Training and Validation Accuracy')\n",
    "\n",
    "plt.subplot(1,2,2)\n",
    "plt.plot(epochs_range,loss,label='Training Loss')\n",
    "plt.plot(epochs_range,val_loss,label='Validation Loss')\n",
    "plt.legend(loc='upper right')\n",
    "plt.title('Training and Validation Loss')\n",
    "plt.show()"
   ]
  },
  {
   "cell_type": "code",
   "execution_count": 27,
   "id": "f7142e2b",
   "metadata": {},
   "outputs": [],
   "source": [
    "model_new = keras.Sequential([\n",
    "    keras.layers.Flatten(input_shape=(28,28)),\n",
    "    keras.layers.Dense(512,activation='relu'),\n",
    "    keras.layers.Dense(10,'softmax')\n",
    "])"
   ]
  },
  {
   "cell_type": "code",
   "execution_count": 28,
   "id": "769d8793",
   "metadata": {},
   "outputs": [],
   "source": [
    "model_new.compile(optimizer='adam',\n",
    "             loss=tf.keras.losses.SparseCategoricalCrossentropy(from_logits=True),\n",
    "             metrics=['accuracy'])"
   ]
  },
  {
   "cell_type": "code",
   "execution_count": 30,
   "id": "a2fcbd5a",
   "metadata": {},
   "outputs": [],
   "source": [
    "callback = keras.callbacks.EarlyStopping(monitor='val_loss',patience=3)"
   ]
  },
  {
   "cell_type": "code",
   "execution_count": 32,
   "id": "6aff1a52",
   "metadata": {},
   "outputs": [
    {
     "name": "stdout",
     "output_type": "stream",
     "text": [
      "Epoch 1/50\n",
      "1500/1500 [==============================] - 13s 8ms/step - loss: 0.4925 - accuracy: 0.8239 - val_loss: 0.4064 - val_accuracy: 0.8496\n",
      "Epoch 2/50\n",
      "1500/1500 [==============================] - 12s 8ms/step - loss: 0.3706 - accuracy: 0.8645 - val_loss: 0.3969 - val_accuracy: 0.8543\n",
      "Epoch 3/50\n",
      "1500/1500 [==============================] - 12s 8ms/step - loss: 0.3276 - accuracy: 0.8787 - val_loss: 0.3504 - val_accuracy: 0.8692\n",
      "Epoch 4/50\n",
      "1500/1500 [==============================] - 11s 7ms/step - loss: 0.3033 - accuracy: 0.8888 - val_loss: 0.3287 - val_accuracy: 0.8808\n",
      "Epoch 5/50\n",
      "1500/1500 [==============================] - 11s 7ms/step - loss: 0.2846 - accuracy: 0.8957 - val_loss: 0.3352 - val_accuracy: 0.8794\n",
      "Epoch 6/50\n",
      "1500/1500 [==============================] - 11s 7ms/step - loss: 0.2695 - accuracy: 0.9001 - val_loss: 0.3105 - val_accuracy: 0.8888\n",
      "Epoch 7/50\n",
      "1500/1500 [==============================] - 11s 7ms/step - loss: 0.2564 - accuracy: 0.9049 - val_loss: 0.3363 - val_accuracy: 0.8839\n",
      "Epoch 8/50\n",
      "1500/1500 [==============================] - 12s 8ms/step - loss: 0.2444 - accuracy: 0.9082 - val_loss: 0.3256 - val_accuracy: 0.8853\n",
      "Epoch 9/50\n",
      "1500/1500 [==============================] - 11s 7ms/step - loss: 0.2321 - accuracy: 0.9122 - val_loss: 0.3294 - val_accuracy: 0.8856\n"
     ]
    }
   ],
   "source": [
    "history = model_new.fit(train_images, train_labels, epochs=50, validation_split=0.2,callbacks=callback,verbose=1)"
   ]
  },
  {
   "cell_type": "code",
   "execution_count": 33,
   "id": "75ec893b",
   "metadata": {},
   "outputs": [
    {
     "data": {
      "image/png": "[encoded data removed]",
      "text/plain": [
       "<Figure size 576x288 with 2 Axes>"
      ]
     },
     "metadata": {
      "needs_background": "light"
     },
     "output_type": "display_data"
    }
   ],
   "source": [
    "epochs = 9\n",
    "acc = history.history['accuracy']\n",
    "val_acc = history.history['val_accuracy']\n",
    "\n",
    "loss = history.history['loss']\n",
    "val_loss = history.history['val_loss']\n",
    "\n",
    "epochs_range = range(epochs)\n",
    "\n",
    "plt.figure(figsize=(8, 4))\n",
    "plt.subplot(1, 2, 1)\n",
    "plt.plot(epochs_range, acc, label='Training Accuracy')\n",
    "plt.plot(epochs_range, val_acc, label='Validation Accuracy')\n",
    "plt.legend(loc='lower right')\n",
    "plt.title('Training and Validation Accuracy')\n",
    "\n",
    "plt.subplot(1, 2, 2)\n",
    "plt.plot(epochs_range, loss, label='Training Loss')\n",
    "plt.plot(epochs_range, val_loss, label='Validation Loss')\n",
    "plt.legend(loc=0)\n",
    "plt.title('Training and Validation Loss')\n",
    "plt.show()\n"
   ]
  },
  {
   "cell_type": "code",
   "execution_count": 34,
   "id": "397a16a3",
   "metadata": {},
   "outputs": [
    {
     "data": {
      "image/png": "[encoded data removed]",
      "text/plain": [
       "<Figure size 432x288 with 1 Axes>"
      ]
     },
     "metadata": {},
     "output_type": "display_data"
    }
   ],
   "source": [
    "plt.imshow(test_images[110],cmap='gray_r')\n",
    "plt.title(class_names[test_labels[110]])\n",
    "plt.xticks([])\n",
    "plt.yticks([])\n",
    "plt.grid(False)\n",
    "plt.show()"
   ]
  },
  {
   "cell_type": "code",
   "execution_count": 35,
   "id": "6a72ba4b",
   "metadata": {},
   "outputs": [],
   "source": [
    "pred = model.predict(test_images[110].reshape(1,28,28))"
   ]
  },
  {
   "cell_type": "code",
   "execution_count": 36,
   "id": "85d2543e",
   "metadata": {},
   "outputs": [
    {
     "data": {
      "text/plain": [
       "array([[0., 0., 1., 0., 0., 0., 0., 0., 0., 0.]], dtype=float32)"
      ]
     },
     "execution_count": 36,
     "metadata": {},
     "output_type": "execute_result"
    }
   ],
   "source": [
    "pred.round()"
   ]
  },
  {
   "cell_type": "code",
   "execution_count": 38,
   "id": "b4c3f140",
   "metadata": {},
   "outputs": [
    {
     "data": {
      "text/plain": [
       "2"
      ]
     },
     "execution_count": 38,
     "metadata": {},
     "output_type": "execute_result"
    }
   ],
   "source": [
    "np.argmax(pred)"
   ]
  },
  {
   "cell_type": "code",
   "execution_count": 39,
   "id": "7dc02649",
   "metadata": {},
   "outputs": [
    {
     "data": {
      "text/plain": [
       "'Pullover'"
      ]
     },
     "execution_count": 39,
     "metadata": {},
     "output_type": "execute_result"
    }
   ],
   "source": [
    "class_names[np.argmax(pred)]"
   ]
  },
  {
   "cell_type": "code",
   "execution_count": null,
   "id": "b75f2fe5",
   "metadata": {},
   "outputs": [],
   "source": []
  }
 ],
 "metadata": {
  "kernelspec": {
   "display_name": "Python 3",
   "language": "python",
   "name": "python3"
  },
  "language_info": {
   "codemirror_mode": {
    "name": "ipython",
    "version": 3
   },
   "file_extension": ".py",
   "mimetype": "text/x-python",
   "name": "python",
   "nbconvert_exporter": "python",
   "pygments_lexer": "ipython3",
   "version": "3.6.13"
  }
 },
 "nbformat": 4,
 "nbformat_minor": 5
}
